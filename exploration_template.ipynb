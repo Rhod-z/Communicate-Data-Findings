{
 "cells": [
  {
   "cell_type": "markdown",
   "metadata": {},
   "source": [
    "# Flights Data Exploration\n",
    "## By Ifeoma Benson\n",
    "\n",
    "## Introduction\n",
    "> The dataset reports flights in the United States, including carriers, arrival and departure delays from 1987 to 2008. I gathered & analyze data for three years (2006, 2007 & 2008).  The total number of  observations are 16,984,354  and the following questions will be addressed:-\n",
    "\n",
    "- what are the worst airports/states in terms of delayed and cancelled flights?\n",
    "- what are the worst flights in terms of delayed and cancelled flights?\n",
    "- what carrier is mostly used? \n",
    "- Best day of the week to travel ?\n",
    "- what year encountered  high number of cancellation in flights\n",
    " \n",
    "\n",
    "\n",
    "## Preliminary Wrangling\n"
   ]
  },
  {
   "cell_type": "code",
   "execution_count": 1,
   "metadata": {
    "tags": []
   },
   "outputs": [],
   "source": [
    "# import all packages and set plots to be embedded inline\n",
    "import numpy as np\n",
    "import pandas as pd\n",
    "import matplotlib.pyplot as plt\n",
    "import seaborn as sns\n",
    "\n",
    "%matplotlib inline"
   ]
  },
  {
   "cell_type": "code",
   "execution_count": 2,
   "metadata": {},
   "outputs": [],
   "source": [
    "# suppress warnings from final output\n",
    "import warnings\n",
    "warnings.simplefilter(action='ignore', category=FutureWarning)"
   ]
  },
  {
   "cell_type": "markdown",
   "metadata": {
    "tags": []
   },
   "source": [
    "> Load in your dataset and describe its properties through the questions below. Try and motivate your exploration goals through this section.\n"
   ]
  },
  {
   "cell_type": "code",
   "execution_count": 3,
   "metadata": {},
   "outputs": [],
   "source": [
    "# load in the dataset into a pandas dataframe\n",
    " \n",
    "df3 = pd.read_csv(r'C:\\Users\\user\\Desktop\\airport\\2006.csv')\n",
    "df4 = pd.read_csv(r'C:\\Users\\user\\Desktop\\airport\\2007.csv')\n",
    "df5 = pd.read_csv(r'C:\\Users\\user\\Desktop\\airport\\2008.csv')"
   ]
  },
  {
   "cell_type": "code",
   "execution_count": 4,
   "metadata": {},
   "outputs": [
    {
     "name": "stdout",
     "output_type": "stream",
     "text": [
      "<class 'pandas.core.frame.DataFrame'>\n",
      "RangeIndex: 7453215 entries, 0 to 7453214\n",
      "Data columns (total 29 columns):\n",
      " #   Column             Dtype  \n",
      "---  ------             -----  \n",
      " 0   Year               int64  \n",
      " 1   Month              int64  \n",
      " 2   DayofMonth         int64  \n",
      " 3   DayOfWeek          int64  \n",
      " 4   DepTime            float64\n",
      " 5   CRSDepTime         int64  \n",
      " 6   ArrTime            float64\n",
      " 7   CRSArrTime         int64  \n",
      " 8   UniqueCarrier      object \n",
      " 9   FlightNum          int64  \n",
      " 10  TailNum            object \n",
      " 11  ActualElapsedTime  float64\n",
      " 12  CRSElapsedTime     float64\n",
      " 13  AirTime            float64\n",
      " 14  ArrDelay           float64\n",
      " 15  DepDelay           float64\n",
      " 16  Origin             object \n",
      " 17  Dest               object \n",
      " 18  Distance           int64  \n",
      " 19  TaxiIn             int64  \n",
      " 20  TaxiOut            int64  \n",
      " 21  Cancelled          int64  \n",
      " 22  CancellationCode   object \n",
      " 23  Diverted           int64  \n",
      " 24  CarrierDelay       int64  \n",
      " 25  WeatherDelay       int64  \n",
      " 26  NASDelay           int64  \n",
      " 27  SecurityDelay      int64  \n",
      " 28  LateAircraftDelay  int64  \n",
      "dtypes: float64(7), int64(17), object(5)\n",
      "memory usage: 1.6+ GB\n",
      "None\n",
      "<class 'pandas.core.frame.DataFrame'>\n",
      "RangeIndex: 2389217 entries, 0 to 2389216\n",
      "Data columns (total 29 columns):\n",
      " #   Column             Dtype  \n",
      "---  ------             -----  \n",
      " 0   Year               int64  \n",
      " 1   Month              int64  \n",
      " 2   DayofMonth         int64  \n",
      " 3   DayOfWeek          int64  \n",
      " 4   DepTime            float64\n",
      " 5   CRSDepTime         int64  \n",
      " 6   ArrTime            float64\n",
      " 7   CRSArrTime         int64  \n",
      " 8   UniqueCarrier      object \n",
      " 9   FlightNum          int64  \n",
      " 10  TailNum            object \n",
      " 11  ActualElapsedTime  float64\n",
      " 12  CRSElapsedTime     float64\n",
      " 13  AirTime            float64\n",
      " 14  ArrDelay           float64\n",
      " 15  DepDelay           float64\n",
      " 16  Origin             object \n",
      " 17  Dest               object \n",
      " 18  Distance           int64  \n",
      " 19  TaxiIn             float64\n",
      " 20  TaxiOut            float64\n",
      " 21  Cancelled          int64  \n",
      " 22  CancellationCode   object \n",
      " 23  Diverted           int64  \n",
      " 24  CarrierDelay       float64\n",
      " 25  WeatherDelay       float64\n",
      " 26  NASDelay           float64\n",
      " 27  SecurityDelay      float64\n",
      " 28  LateAircraftDelay  float64\n",
      "dtypes: float64(14), int64(10), object(5)\n",
      "memory usage: 528.6+ MB\n",
      "None\n",
      "<class 'pandas.core.frame.DataFrame'>\n",
      "RangeIndex: 7141922 entries, 0 to 7141921\n",
      "Data columns (total 29 columns):\n",
      " #   Column             Dtype  \n",
      "---  ------             -----  \n",
      " 0   Year               int64  \n",
      " 1   Month              int64  \n",
      " 2   DayofMonth         int64  \n",
      " 3   DayOfWeek          int64  \n",
      " 4   DepTime            float64\n",
      " 5   CRSDepTime         int64  \n",
      " 6   ArrTime            float64\n",
      " 7   CRSArrTime         int64  \n",
      " 8   UniqueCarrier      object \n",
      " 9   FlightNum          int64  \n",
      " 10  TailNum            object \n",
      " 11  ActualElapsedTime  float64\n",
      " 12  CRSElapsedTime     float64\n",
      " 13  AirTime            float64\n",
      " 14  ArrDelay           float64\n",
      " 15  DepDelay           float64\n",
      " 16  Origin             object \n",
      " 17  Dest               object \n",
      " 18  Distance           int64  \n",
      " 19  TaxiIn             int64  \n",
      " 20  TaxiOut            int64  \n",
      " 21  Cancelled          int64  \n",
      " 22  CancellationCode   object \n",
      " 23  Diverted           int64  \n",
      " 24  CarrierDelay       int64  \n",
      " 25  WeatherDelay       int64  \n",
      " 26  NASDelay           int64  \n",
      " 27  SecurityDelay      int64  \n",
      " 28  LateAircraftDelay  int64  \n",
      "dtypes: float64(7), int64(17), object(5)\n",
      "memory usage: 1.5+ GB\n",
      "None\n"
     ]
    }
   ],
   "source": [
    "##check info of the dataset\n",
    "lis = [df4,df5,df3]\n",
    "for df in lis:\n",
    "    print(df.info())"
   ]
  },
  {
   "cell_type": "code",
   "execution_count": 5,
   "metadata": {},
   "outputs": [
    {
     "name": "stdout",
     "output_type": "stream",
     "text": [
      "(7453215, 29)\n",
      "(2389217, 29)\n",
      "(7141922, 29)\n"
     ]
    }
   ],
   "source": [
    "#checking shape of dataframe\n",
    "for df in lis:\n",
    "    print(df.shape)"
   ]
  },
  {
   "cell_type": "code",
   "execution_count": 6,
   "metadata": {},
   "outputs": [
    {
     "name": "stdout",
     "output_type": "stream",
     "text": [
      "16984354\n"
     ]
    }
   ],
   "source": [
    "#total number of row i am working with\n",
    "a = 0\n",
    "for df in lis:\n",
    "    a+=df.shape[0]\n",
    "print(a)"
   ]
  },
  {
   "cell_type": "code",
   "execution_count": 7,
   "metadata": {},
   "outputs": [
    {
     "data": {
      "text/plain": [
       "1490"
      ]
     },
     "execution_count": 7,
     "metadata": {},
     "output_type": "execute_result"
    }
   ],
   "source": [
    "#read carrier into a dataframe\n",
    "df6 = pd.read_csv(r'C:\\Users\\user\\Desktop\\airport\\carriers.csv')\n",
    "df6['Code'].nunique()"
   ]
  },
  {
   "cell_type": "code",
   "execution_count": 8,
   "metadata": {},
   "outputs": [],
   "source": [
    "#join 3 table together\n",
    "joined =pd.merge(df3, df4,  how=\"outer\")\n",
    "joined =pd.merge(joined, df5,  how=\"outer\")"
   ]
  },
  {
   "cell_type": "markdown",
   "metadata": {},
   "source": [
    "joined = pd.merge(joined, df3, how=\"outer\")\n",
    "joined = pd.merge(joined, df4, how=\"outer\")\n",
    "joined = pd.merge(joined, df5, how=\"outer\")"
   ]
  },
  {
   "cell_type": "code",
   "execution_count": 9,
   "metadata": {},
   "outputs": [
    {
     "name": "stdout",
     "output_type": "stream",
     "text": [
      "<class 'pandas.core.frame.DataFrame'>\n",
      "Int64Index: 16984354 entries, 0 to 16984353\n",
      "Data columns (total 29 columns):\n",
      " #   Column             Dtype  \n",
      "---  ------             -----  \n",
      " 0   Year               int64  \n",
      " 1   Month              int64  \n",
      " 2   DayofMonth         int64  \n",
      " 3   DayOfWeek          int64  \n",
      " 4   DepTime            float64\n",
      " 5   CRSDepTime         int64  \n",
      " 6   ArrTime            float64\n",
      " 7   CRSArrTime         int64  \n",
      " 8   UniqueCarrier      object \n",
      " 9   FlightNum          int64  \n",
      " 10  TailNum            object \n",
      " 11  ActualElapsedTime  float64\n",
      " 12  CRSElapsedTime     float64\n",
      " 13  AirTime            float64\n",
      " 14  ArrDelay           float64\n",
      " 15  DepDelay           float64\n",
      " 16  Origin             object \n",
      " 17  Dest               object \n",
      " 18  Distance           int64  \n",
      " 19  TaxiIn             float64\n",
      " 20  TaxiOut            float64\n",
      " 21  Cancelled          int64  \n",
      " 22  CancellationCode   object \n",
      " 23  Diverted           int64  \n",
      " 24  CarrierDelay       float64\n",
      " 25  WeatherDelay       float64\n",
      " 26  NASDelay           float64\n",
      " 27  SecurityDelay      float64\n",
      " 28  LateAircraftDelay  float64\n",
      "dtypes: float64(14), int64(10), object(5)\n",
      "memory usage: 3.8+ GB\n"
     ]
    }
   ],
   "source": [
    "#show information of new table\n",
    "joined.info()\n"
   ]
  },
  {
   "cell_type": "code",
   "execution_count": 10,
   "metadata": {},
   "outputs": [
    {
     "data": {
      "text/plain": [
       "(16984354, 29)"
      ]
     },
     "execution_count": 10,
     "metadata": {},
     "output_type": "execute_result"
    }
   ],
   "source": [
    "#show shape of new table\n",
    "joined.shape"
   ]
  },
  {
   "cell_type": "code",
   "execution_count": 11,
   "metadata": {},
   "outputs": [
    {
     "data": {
      "text/html": [
       "<div>\n",
       "<style scoped>\n",
       "    .dataframe tbody tr th:only-of-type {\n",
       "        vertical-align: middle;\n",
       "    }\n",
       "\n",
       "    .dataframe tbody tr th {\n",
       "        vertical-align: top;\n",
       "    }\n",
       "\n",
       "    .dataframe thead th {\n",
       "        text-align: right;\n",
       "    }\n",
       "</style>\n",
       "<table border=\"1\" class=\"dataframe\">\n",
       "  <thead>\n",
       "    <tr style=\"text-align: right;\">\n",
       "      <th></th>\n",
       "      <th>Year</th>\n",
       "      <th>Month</th>\n",
       "      <th>DayofMonth</th>\n",
       "      <th>DayOfWeek</th>\n",
       "      <th>DepTime</th>\n",
       "      <th>CRSDepTime</th>\n",
       "      <th>ArrTime</th>\n",
       "      <th>CRSArrTime</th>\n",
       "      <th>UniqueCarrier</th>\n",
       "      <th>FlightNum</th>\n",
       "      <th>...</th>\n",
       "      <th>TaxiIn</th>\n",
       "      <th>TaxiOut</th>\n",
       "      <th>Cancelled</th>\n",
       "      <th>CancellationCode</th>\n",
       "      <th>Diverted</th>\n",
       "      <th>CarrierDelay</th>\n",
       "      <th>WeatherDelay</th>\n",
       "      <th>NASDelay</th>\n",
       "      <th>SecurityDelay</th>\n",
       "      <th>LateAircraftDelay</th>\n",
       "    </tr>\n",
       "  </thead>\n",
       "  <tbody>\n",
       "    <tr>\n",
       "      <th>0</th>\n",
       "      <td>2006</td>\n",
       "      <td>1</td>\n",
       "      <td>11</td>\n",
       "      <td>3</td>\n",
       "      <td>743.0</td>\n",
       "      <td>745</td>\n",
       "      <td>1024.0</td>\n",
       "      <td>1018</td>\n",
       "      <td>US</td>\n",
       "      <td>343</td>\n",
       "      <td>...</td>\n",
       "      <td>45.0</td>\n",
       "      <td>13.0</td>\n",
       "      <td>0</td>\n",
       "      <td>NaN</td>\n",
       "      <td>0</td>\n",
       "      <td>0.0</td>\n",
       "      <td>0.0</td>\n",
       "      <td>0.0</td>\n",
       "      <td>0.0</td>\n",
       "      <td>0.0</td>\n",
       "    </tr>\n",
       "    <tr>\n",
       "      <th>1</th>\n",
       "      <td>2006</td>\n",
       "      <td>1</td>\n",
       "      <td>11</td>\n",
       "      <td>3</td>\n",
       "      <td>1053.0</td>\n",
       "      <td>1053</td>\n",
       "      <td>1313.0</td>\n",
       "      <td>1318</td>\n",
       "      <td>US</td>\n",
       "      <td>613</td>\n",
       "      <td>...</td>\n",
       "      <td>27.0</td>\n",
       "      <td>19.0</td>\n",
       "      <td>0</td>\n",
       "      <td>NaN</td>\n",
       "      <td>0</td>\n",
       "      <td>0.0</td>\n",
       "      <td>0.0</td>\n",
       "      <td>0.0</td>\n",
       "      <td>0.0</td>\n",
       "      <td>0.0</td>\n",
       "    </tr>\n",
       "    <tr>\n",
       "      <th>2</th>\n",
       "      <td>2006</td>\n",
       "      <td>1</td>\n",
       "      <td>11</td>\n",
       "      <td>3</td>\n",
       "      <td>1915.0</td>\n",
       "      <td>1915</td>\n",
       "      <td>2110.0</td>\n",
       "      <td>2133</td>\n",
       "      <td>US</td>\n",
       "      <td>617</td>\n",
       "      <td>...</td>\n",
       "      <td>4.0</td>\n",
       "      <td>11.0</td>\n",
       "      <td>0</td>\n",
       "      <td>NaN</td>\n",
       "      <td>0</td>\n",
       "      <td>0.0</td>\n",
       "      <td>0.0</td>\n",
       "      <td>0.0</td>\n",
       "      <td>0.0</td>\n",
       "      <td>0.0</td>\n",
       "    </tr>\n",
       "  </tbody>\n",
       "</table>\n",
       "<p>3 rows × 29 columns</p>\n",
       "</div>"
      ],
      "text/plain": [
       "   Year  Month  DayofMonth  DayOfWeek  DepTime  CRSDepTime  ArrTime  \\\n",
       "0  2006      1          11          3    743.0         745   1024.0   \n",
       "1  2006      1          11          3   1053.0        1053   1313.0   \n",
       "2  2006      1          11          3   1915.0        1915   2110.0   \n",
       "\n",
       "   CRSArrTime UniqueCarrier  FlightNum  ... TaxiIn  TaxiOut  Cancelled  \\\n",
       "0        1018            US        343  ...   45.0     13.0          0   \n",
       "1        1318            US        613  ...   27.0     19.0          0   \n",
       "2        2133            US        617  ...    4.0     11.0          0   \n",
       "\n",
       "   CancellationCode  Diverted  CarrierDelay WeatherDelay NASDelay  \\\n",
       "0               NaN         0           0.0          0.0      0.0   \n",
       "1               NaN         0           0.0          0.0      0.0   \n",
       "2               NaN         0           0.0          0.0      0.0   \n",
       "\n",
       "   SecurityDelay  LateAircraftDelay  \n",
       "0            0.0                0.0  \n",
       "1            0.0                0.0  \n",
       "2            0.0                0.0  \n",
       "\n",
       "[3 rows x 29 columns]"
      ]
     },
     "execution_count": 11,
     "metadata": {},
     "output_type": "execute_result"
    }
   ],
   "source": [
    "#show head of table\n",
    "joined.head(3)"
   ]
  },
  {
   "cell_type": "code",
   "execution_count": 12,
   "metadata": {},
   "outputs": [
    {
     "data": {
      "text/plain": [
       "0       00M\n",
       "1       00R\n",
       "2       00V\n",
       "3       01G\n",
       "4       01J\n",
       "       ... \n",
       "3371    ZEF\n",
       "3372    ZER\n",
       "3373    ZPH\n",
       "3374    ZUN\n",
       "3375    ZZV\n",
       "Name: iata, Length: 3376, dtype: object"
      ]
     },
     "execution_count": 12,
     "metadata": {},
     "output_type": "execute_result"
    }
   ],
   "source": [
    "#read airport data\n",
    "df7 = pd.read_csv(r'C:\\Users\\user\\Desktop\\airport\\airports.csv')\n",
    "df7.iata "
   ]
  },
  {
   "cell_type": "code",
   "execution_count": 13,
   "metadata": {},
   "outputs": [
    {
     "data": {
      "text/html": [
       "<div>\n",
       "<style scoped>\n",
       "    .dataframe tbody tr th:only-of-type {\n",
       "        vertical-align: middle;\n",
       "    }\n",
       "\n",
       "    .dataframe tbody tr th {\n",
       "        vertical-align: top;\n",
       "    }\n",
       "\n",
       "    .dataframe thead th {\n",
       "        text-align: right;\n",
       "    }\n",
       "</style>\n",
       "<table border=\"1\" class=\"dataframe\">\n",
       "  <thead>\n",
       "    <tr style=\"text-align: right;\">\n",
       "      <th></th>\n",
       "      <th>Code</th>\n",
       "      <th>Description</th>\n",
       "    </tr>\n",
       "  </thead>\n",
       "  <tbody>\n",
       "    <tr>\n",
       "      <th>0</th>\n",
       "      <td>02Q</td>\n",
       "      <td>Titan Airways</td>\n",
       "    </tr>\n",
       "    <tr>\n",
       "      <th>1</th>\n",
       "      <td>04Q</td>\n",
       "      <td>Tradewind Aviation</td>\n",
       "    </tr>\n",
       "    <tr>\n",
       "      <th>2</th>\n",
       "      <td>05Q</td>\n",
       "      <td>Comlux Aviation, AG</td>\n",
       "    </tr>\n",
       "    <tr>\n",
       "      <th>3</th>\n",
       "      <td>06Q</td>\n",
       "      <td>Master Top Linhas Aereas Ltd.</td>\n",
       "    </tr>\n",
       "    <tr>\n",
       "      <th>4</th>\n",
       "      <td>07Q</td>\n",
       "      <td>Flair Airlines Ltd.</td>\n",
       "    </tr>\n",
       "    <tr>\n",
       "      <th>...</th>\n",
       "      <td>...</td>\n",
       "      <td>...</td>\n",
       "    </tr>\n",
       "    <tr>\n",
       "      <th>1486</th>\n",
       "      <td>ZW</td>\n",
       "      <td>Air Wisconsin Airlines Corp</td>\n",
       "    </tr>\n",
       "    <tr>\n",
       "      <th>1487</th>\n",
       "      <td>ZX</td>\n",
       "      <td>Air Georgian</td>\n",
       "    </tr>\n",
       "    <tr>\n",
       "      <th>1488</th>\n",
       "      <td>ZX (1)</td>\n",
       "      <td>Airbc Ltd.</td>\n",
       "    </tr>\n",
       "    <tr>\n",
       "      <th>1489</th>\n",
       "      <td>ZY</td>\n",
       "      <td>Atlantic Gulf Airlines</td>\n",
       "    </tr>\n",
       "    <tr>\n",
       "      <th>1490</th>\n",
       "      <td>ZYZ</td>\n",
       "      <td>Skyway Aviation Inc.</td>\n",
       "    </tr>\n",
       "  </tbody>\n",
       "</table>\n",
       "<p>1491 rows × 2 columns</p>\n",
       "</div>"
      ],
      "text/plain": [
       "        Code                    Description\n",
       "0        02Q                  Titan Airways\n",
       "1        04Q             Tradewind Aviation\n",
       "2        05Q            Comlux Aviation, AG\n",
       "3        06Q  Master Top Linhas Aereas Ltd.\n",
       "4        07Q            Flair Airlines Ltd.\n",
       "...      ...                            ...\n",
       "1486      ZW    Air Wisconsin Airlines Corp\n",
       "1487      ZX                   Air Georgian\n",
       "1488  ZX (1)                     Airbc Ltd.\n",
       "1489      ZY         Atlantic Gulf Airlines\n",
       "1490     ZYZ           Skyway Aviation Inc.\n",
       "\n",
       "[1491 rows x 2 columns]"
      ]
     },
     "execution_count": 13,
     "metadata": {},
     "output_type": "execute_result"
    }
   ],
   "source": [
    "#display information on carrier\n",
    "df6"
   ]
  },
  {
   "cell_type": "markdown",
   "metadata": {},
   "source": [
    "i want to replace Uniquecarrier code to airline name  "
   ]
  },
  {
   "cell_type": "code",
   "execution_count": 14,
   "metadata": {},
   "outputs": [
    {
     "name": "stdout",
     "output_type": "stream",
     "text": [
      "21\n"
     ]
    },
    {
     "data": {
      "text/plain": [
       "'shows the dataset of uniqueCarrier and i can see 20 unique code'"
      ]
     },
     "execution_count": 14,
     "metadata": {},
     "output_type": "execute_result"
    }
   ],
   "source": [
    "#print uniquecarrier\n",
    "print(joined.UniqueCarrier.nunique())\n",
    "'''shows the dataset of uniqueCarrier and i can see 20 unique code'''"
   ]
  },
  {
   "cell_type": "code",
   "execution_count": 15,
   "metadata": {},
   "outputs": [],
   "source": [
    "'''collect all index of unique code'''\n",
    "uniquecode = joined.UniqueCarrier.value_counts().index"
   ]
  },
  {
   "cell_type": "code",
   "execution_count": 16,
   "metadata": {},
   "outputs": [],
   "source": [
    "'''filter out code not in the list and reset index'''\n",
    "airline= df6[df6.Code.isin(uniquecode).reset_index(drop=True)]"
   ]
  },
  {
   "cell_type": "code",
   "execution_count": 17,
   "metadata": {},
   "outputs": [
    {
     "data": {
      "text/plain": [
       "(21, 2)"
      ]
     },
     "execution_count": 17,
     "metadata": {},
     "output_type": "execute_result"
    }
   ],
   "source": [
    "#checking the shape\n",
    "airline.shape"
   ]
  },
  {
   "cell_type": "code",
   "execution_count": 18,
   "metadata": {},
   "outputs": [
    {
     "data": {
      "text/plain": [
       "84                                 Pinnacle Airlines Inc.\n",
       "100                                American Airlines Inc.\n",
       "206                                   Aloha Airlines Inc.\n",
       "221                                  Alaska Airlines Inc.\n",
       "263                                       JetBlue Airways\n",
       "377                            Continental Air Lines Inc.\n",
       "441                                  Delta Air Lines Inc.\n",
       "505                           Atlantic Southeast Airlines\n",
       "517                                Frontier Airlines Inc.\n",
       "537                           AirTran Airways Corporation\n",
       "619                                Hawaiian Airlines Inc.\n",
       "848                          American Eagle Airlines Inc.\n",
       "920                               Northwest Airlines Inc.\n",
       "936                                           Comair Inc.\n",
       "949                                 Skywest Airlines Inc.\n",
       "1292                               ATA Airlines d/b/a ATA\n",
       "1297                                United Air Lines Inc.\n",
       "1308    US Airways Inc. (Merged with America West 9/05...\n",
       "1388                               Southwest Airlines Co.\n",
       "1447                             Expressjet Airlines Inc.\n",
       "1465                                   Mesa Airlines Inc.\n",
       "Name: Description, dtype: object"
      ]
     },
     "execution_count": 18,
     "metadata": {},
     "output_type": "execute_result"
    }
   ],
   "source": [
    "airline.Description"
   ]
  },
  {
   "cell_type": "code",
   "execution_count": 19,
   "metadata": {},
   "outputs": [
    {
     "name": "stderr",
     "output_type": "stream",
     "text": [
      "C:\\Users\\user\\AppData\\Local\\Temp\\ipykernel_17808\\4098283649.py:2: SettingWithCopyWarning: \n",
      "A value is trying to be set on a copy of a slice from a DataFrame.\n",
      "Try using .loc[row_indexer,col_indexer] = value instead\n",
      "\n",
      "See the caveats in the documentation: https://pandas.pydata.org/pandas-docs/stable/user_guide/indexing.html#returning-a-view-versus-a-copy\n",
      "  airline['name'] = airline['Description'].apply(lambda x : x.split(' A')[0])\n"
     ]
    }
   ],
   "source": [
    "#getting only airline name in airline description and assign it to new column\n",
    "airline['name'] = airline['Description'].apply(lambda x : x.split(' A')[0])"
   ]
  },
  {
   "cell_type": "code",
   "execution_count": 20,
   "metadata": {},
   "outputs": [],
   "source": [
    "'''set index to code'''\n",
    "airline = airline.set_index('Code')"
   ]
  },
  {
   "cell_type": "code",
   "execution_count": 21,
   "metadata": {},
   "outputs": [
    {
     "data": {
      "text/html": [
       "<div>\n",
       "<style scoped>\n",
       "    .dataframe tbody tr th:only-of-type {\n",
       "        vertical-align: middle;\n",
       "    }\n",
       "\n",
       "    .dataframe tbody tr th {\n",
       "        vertical-align: top;\n",
       "    }\n",
       "\n",
       "    .dataframe thead th {\n",
       "        text-align: right;\n",
       "    }\n",
       "</style>\n",
       "<table border=\"1\" class=\"dataframe\">\n",
       "  <thead>\n",
       "    <tr style=\"text-align: right;\">\n",
       "      <th></th>\n",
       "      <th>Description</th>\n",
       "      <th>name</th>\n",
       "    </tr>\n",
       "    <tr>\n",
       "      <th>Code</th>\n",
       "      <th></th>\n",
       "      <th></th>\n",
       "    </tr>\n",
       "  </thead>\n",
       "  <tbody>\n",
       "    <tr>\n",
       "      <th>9E</th>\n",
       "      <td>Pinnacle Airlines Inc.</td>\n",
       "      <td>Pinnacle</td>\n",
       "    </tr>\n",
       "    <tr>\n",
       "      <th>AA</th>\n",
       "      <td>American Airlines Inc.</td>\n",
       "      <td>American</td>\n",
       "    </tr>\n",
       "    <tr>\n",
       "      <th>AQ</th>\n",
       "      <td>Aloha Airlines Inc.</td>\n",
       "      <td>Aloha</td>\n",
       "    </tr>\n",
       "    <tr>\n",
       "      <th>AS</th>\n",
       "      <td>Alaska Airlines Inc.</td>\n",
       "      <td>Alaska</td>\n",
       "    </tr>\n",
       "    <tr>\n",
       "      <th>B6</th>\n",
       "      <td>JetBlue Airways</td>\n",
       "      <td>JetBlue</td>\n",
       "    </tr>\n",
       "    <tr>\n",
       "      <th>CO</th>\n",
       "      <td>Continental Air Lines Inc.</td>\n",
       "      <td>Continental</td>\n",
       "    </tr>\n",
       "    <tr>\n",
       "      <th>DL</th>\n",
       "      <td>Delta Air Lines Inc.</td>\n",
       "      <td>Delta</td>\n",
       "    </tr>\n",
       "    <tr>\n",
       "      <th>EV</th>\n",
       "      <td>Atlantic Southeast Airlines</td>\n",
       "      <td>Atlantic Southeast</td>\n",
       "    </tr>\n",
       "    <tr>\n",
       "      <th>F9</th>\n",
       "      <td>Frontier Airlines Inc.</td>\n",
       "      <td>Frontier</td>\n",
       "    </tr>\n",
       "    <tr>\n",
       "      <th>FL</th>\n",
       "      <td>AirTran Airways Corporation</td>\n",
       "      <td>AirTran</td>\n",
       "    </tr>\n",
       "    <tr>\n",
       "      <th>HA</th>\n",
       "      <td>Hawaiian Airlines Inc.</td>\n",
       "      <td>Hawaiian</td>\n",
       "    </tr>\n",
       "    <tr>\n",
       "      <th>MQ</th>\n",
       "      <td>American Eagle Airlines Inc.</td>\n",
       "      <td>American Eagle</td>\n",
       "    </tr>\n",
       "    <tr>\n",
       "      <th>NW</th>\n",
       "      <td>Northwest Airlines Inc.</td>\n",
       "      <td>Northwest</td>\n",
       "    </tr>\n",
       "    <tr>\n",
       "      <th>OH</th>\n",
       "      <td>Comair Inc.</td>\n",
       "      <td>Comair Inc.</td>\n",
       "    </tr>\n",
       "    <tr>\n",
       "      <th>OO</th>\n",
       "      <td>Skywest Airlines Inc.</td>\n",
       "      <td>Skywest</td>\n",
       "    </tr>\n",
       "    <tr>\n",
       "      <th>TZ</th>\n",
       "      <td>ATA Airlines d/b/a ATA</td>\n",
       "      <td>ATA</td>\n",
       "    </tr>\n",
       "    <tr>\n",
       "      <th>UA</th>\n",
       "      <td>United Air Lines Inc.</td>\n",
       "      <td>United</td>\n",
       "    </tr>\n",
       "    <tr>\n",
       "      <th>US</th>\n",
       "      <td>US Airways Inc. (Merged with America West 9/05...</td>\n",
       "      <td>US</td>\n",
       "    </tr>\n",
       "    <tr>\n",
       "      <th>WN</th>\n",
       "      <td>Southwest Airlines Co.</td>\n",
       "      <td>Southwest</td>\n",
       "    </tr>\n",
       "    <tr>\n",
       "      <th>XE</th>\n",
       "      <td>Expressjet Airlines Inc.</td>\n",
       "      <td>Expressjet</td>\n",
       "    </tr>\n",
       "    <tr>\n",
       "      <th>YV</th>\n",
       "      <td>Mesa Airlines Inc.</td>\n",
       "      <td>Mesa</td>\n",
       "    </tr>\n",
       "  </tbody>\n",
       "</table>\n",
       "</div>"
      ],
      "text/plain": [
       "                                            Description                name\n",
       "Code                                                                       \n",
       "9E                               Pinnacle Airlines Inc.            Pinnacle\n",
       "AA                               American Airlines Inc.            American\n",
       "AQ                                  Aloha Airlines Inc.               Aloha\n",
       "AS                                 Alaska Airlines Inc.              Alaska\n",
       "B6                                      JetBlue Airways             JetBlue\n",
       "CO                           Continental Air Lines Inc.         Continental\n",
       "DL                                 Delta Air Lines Inc.               Delta\n",
       "EV                          Atlantic Southeast Airlines  Atlantic Southeast\n",
       "F9                               Frontier Airlines Inc.            Frontier\n",
       "FL                          AirTran Airways Corporation             AirTran\n",
       "HA                               Hawaiian Airlines Inc.            Hawaiian\n",
       "MQ                         American Eagle Airlines Inc.      American Eagle\n",
       "NW                              Northwest Airlines Inc.           Northwest\n",
       "OH                                          Comair Inc.         Comair Inc.\n",
       "OO                                Skywest Airlines Inc.             Skywest\n",
       "TZ                               ATA Airlines d/b/a ATA                 ATA\n",
       "UA                                United Air Lines Inc.              United\n",
       "US    US Airways Inc. (Merged with America West 9/05...                  US\n",
       "WN                               Southwest Airlines Co.           Southwest\n",
       "XE                             Expressjet Airlines Inc.          Expressjet\n",
       "YV                                   Mesa Airlines Inc.                Mesa"
      ]
     },
     "execution_count": 21,
     "metadata": {},
     "output_type": "execute_result"
    }
   ],
   "source": [
    "#display airline table\n",
    "airline"
   ]
  },
  {
   "cell_type": "code",
   "execution_count": 22,
   "metadata": {},
   "outputs": [
    {
     "name": "stdout",
     "output_type": "stream",
     "text": [
      "0           US\n",
      "1           US\n",
      "2           US\n",
      "3           US\n",
      "4           US\n",
      "            ..\n",
      "16984349    DL\n",
      "16984350    DL\n",
      "16984351    DL\n",
      "16984352    DL\n",
      "16984353    DL\n",
      "Name: UniqueCarrier, Length: 16984354, dtype: object\n"
     ]
    },
    {
     "data": {
      "text/plain": [
       "'replace code with name '"
      ]
     },
     "execution_count": 22,
     "metadata": {},
     "output_type": "execute_result"
    }
   ],
   "source": [
    "print(joined.UniqueCarrier)\n",
    "'''replace code with name '''"
   ]
  },
  {
   "cell_type": "code",
   "execution_count": 23,
   "metadata": {},
   "outputs": [],
   "source": [
    "#to assess key and value, need to create a dict\n",
    "dict_name = dict(airline.name)"
   ]
  },
  {
   "cell_type": "code",
   "execution_count": 24,
   "metadata": {},
   "outputs": [
    {
     "name": "stdout",
     "output_type": "stream",
     "text": [
      "{'9E': 'Pinnacle', 'AA': 'American', 'AQ': 'Aloha', 'AS': 'Alaska', 'B6': 'JetBlue', 'CO': 'Continental', 'DL': 'Delta', 'EV': 'Atlantic Southeast', 'F9': 'Frontier', 'FL': 'AirTran', 'HA': 'Hawaiian', 'MQ': 'American Eagle', 'NW': 'Northwest', 'OH': 'Comair Inc.', 'OO': 'Skywest', 'TZ': 'ATA', 'UA': 'United', 'US': 'US', 'WN': 'Southwest', 'XE': 'Expressjet', 'YV': 'Mesa'}\n"
     ]
    },
    {
     "data": {
      "text/plain": [
       "'replace the joined.uniquecarrier code with vale '"
      ]
     },
     "execution_count": 24,
     "metadata": {},
     "output_type": "execute_result"
    }
   ],
   "source": [
    "print(dict_name)\n",
    "'''replace the joined.uniquecarrier code with vale '''"
   ]
  },
  {
   "cell_type": "code",
   "execution_count": 25,
   "metadata": {},
   "outputs": [],
   "source": [
    "#replace uniquecarrier code with carrier name \n",
    "joined['UniqueCarrier'] = joined.UniqueCarrier.replace(dict_name.keys(),dict_name.values())"
   ]
  },
  {
   "cell_type": "code",
   "execution_count": 26,
   "metadata": {},
   "outputs": [
    {
     "data": {
      "text/plain": [
       "0              US\n",
       "1              US\n",
       "2              US\n",
       "3              US\n",
       "4              US\n",
       "            ...  \n",
       "16984349    Delta\n",
       "16984350    Delta\n",
       "16984351    Delta\n",
       "16984352    Delta\n",
       "16984353    Delta\n",
       "Name: UniqueCarrier, Length: 16984354, dtype: object"
      ]
     },
     "execution_count": 26,
     "metadata": {},
     "output_type": "execute_result"
    }
   ],
   "source": [
    "'''confirm changes '''\n",
    "joined.UniqueCarrier"
   ]
  },
  {
   "cell_type": "code",
   "execution_count": 27,
   "metadata": {},
   "outputs": [
    {
     "data": {
      "text/html": [
       "<div>\n",
       "<style scoped>\n",
       "    .dataframe tbody tr th:only-of-type {\n",
       "        vertical-align: middle;\n",
       "    }\n",
       "\n",
       "    .dataframe tbody tr th {\n",
       "        vertical-align: top;\n",
       "    }\n",
       "\n",
       "    .dataframe thead th {\n",
       "        text-align: right;\n",
       "    }\n",
       "</style>\n",
       "<table border=\"1\" class=\"dataframe\">\n",
       "  <thead>\n",
       "    <tr style=\"text-align: right;\">\n",
       "      <th></th>\n",
       "      <th>Year</th>\n",
       "      <th>Month</th>\n",
       "      <th>DayofMonth</th>\n",
       "      <th>DayOfWeek</th>\n",
       "      <th>DepTime</th>\n",
       "      <th>CRSDepTime</th>\n",
       "      <th>ArrTime</th>\n",
       "      <th>CRSArrTime</th>\n",
       "      <th>UniqueCarrier</th>\n",
       "      <th>FlightNum</th>\n",
       "      <th>...</th>\n",
       "      <th>TaxiIn</th>\n",
       "      <th>TaxiOut</th>\n",
       "      <th>Cancelled</th>\n",
       "      <th>CancellationCode</th>\n",
       "      <th>Diverted</th>\n",
       "      <th>CarrierDelay</th>\n",
       "      <th>WeatherDelay</th>\n",
       "      <th>NASDelay</th>\n",
       "      <th>SecurityDelay</th>\n",
       "      <th>LateAircraftDelay</th>\n",
       "    </tr>\n",
       "  </thead>\n",
       "  <tbody>\n",
       "    <tr>\n",
       "      <th>0</th>\n",
       "      <td>2006</td>\n",
       "      <td>1</td>\n",
       "      <td>11</td>\n",
       "      <td>3</td>\n",
       "      <td>743.0</td>\n",
       "      <td>745</td>\n",
       "      <td>1024.0</td>\n",
       "      <td>1018</td>\n",
       "      <td>US</td>\n",
       "      <td>343</td>\n",
       "      <td>...</td>\n",
       "      <td>45.0</td>\n",
       "      <td>13.0</td>\n",
       "      <td>0</td>\n",
       "      <td>NaN</td>\n",
       "      <td>0</td>\n",
       "      <td>0.0</td>\n",
       "      <td>0.0</td>\n",
       "      <td>0.0</td>\n",
       "      <td>0.0</td>\n",
       "      <td>0.0</td>\n",
       "    </tr>\n",
       "    <tr>\n",
       "      <th>1</th>\n",
       "      <td>2006</td>\n",
       "      <td>1</td>\n",
       "      <td>11</td>\n",
       "      <td>3</td>\n",
       "      <td>1053.0</td>\n",
       "      <td>1053</td>\n",
       "      <td>1313.0</td>\n",
       "      <td>1318</td>\n",
       "      <td>US</td>\n",
       "      <td>613</td>\n",
       "      <td>...</td>\n",
       "      <td>27.0</td>\n",
       "      <td>19.0</td>\n",
       "      <td>0</td>\n",
       "      <td>NaN</td>\n",
       "      <td>0</td>\n",
       "      <td>0.0</td>\n",
       "      <td>0.0</td>\n",
       "      <td>0.0</td>\n",
       "      <td>0.0</td>\n",
       "      <td>0.0</td>\n",
       "    </tr>\n",
       "    <tr>\n",
       "      <th>2</th>\n",
       "      <td>2006</td>\n",
       "      <td>1</td>\n",
       "      <td>11</td>\n",
       "      <td>3</td>\n",
       "      <td>1915.0</td>\n",
       "      <td>1915</td>\n",
       "      <td>2110.0</td>\n",
       "      <td>2133</td>\n",
       "      <td>US</td>\n",
       "      <td>617</td>\n",
       "      <td>...</td>\n",
       "      <td>4.0</td>\n",
       "      <td>11.0</td>\n",
       "      <td>0</td>\n",
       "      <td>NaN</td>\n",
       "      <td>0</td>\n",
       "      <td>0.0</td>\n",
       "      <td>0.0</td>\n",
       "      <td>0.0</td>\n",
       "      <td>0.0</td>\n",
       "      <td>0.0</td>\n",
       "    </tr>\n",
       "  </tbody>\n",
       "</table>\n",
       "<p>3 rows × 29 columns</p>\n",
       "</div>"
      ],
      "text/plain": [
       "   Year  Month  DayofMonth  DayOfWeek  DepTime  CRSDepTime  ArrTime  \\\n",
       "0  2006      1          11          3    743.0         745   1024.0   \n",
       "1  2006      1          11          3   1053.0        1053   1313.0   \n",
       "2  2006      1          11          3   1915.0        1915   2110.0   \n",
       "\n",
       "   CRSArrTime UniqueCarrier  FlightNum  ... TaxiIn  TaxiOut  Cancelled  \\\n",
       "0        1018            US        343  ...   45.0     13.0          0   \n",
       "1        1318            US        613  ...   27.0     19.0          0   \n",
       "2        2133            US        617  ...    4.0     11.0          0   \n",
       "\n",
       "   CancellationCode  Diverted  CarrierDelay WeatherDelay NASDelay  \\\n",
       "0               NaN         0           0.0          0.0      0.0   \n",
       "1               NaN         0           0.0          0.0      0.0   \n",
       "2               NaN         0           0.0          0.0      0.0   \n",
       "\n",
       "   SecurityDelay  LateAircraftDelay  \n",
       "0            0.0                0.0  \n",
       "1            0.0                0.0  \n",
       "2            0.0                0.0  \n",
       "\n",
       "[3 rows x 29 columns]"
      ]
     },
     "execution_count": 27,
     "metadata": {},
     "output_type": "execute_result"
    }
   ],
   "source": [
    "joined.head(3)"
   ]
  },
  {
   "cell_type": "code",
   "execution_count": 28,
   "metadata": {},
   "outputs": [],
   "source": [
    " #converting column name to small letter\n",
    "joined.columns = joined.columns.str.lower()"
   ]
  },
  {
   "cell_type": "code",
   "execution_count": 29,
   "metadata": {},
   "outputs": [],
   "source": [
    "#drop columns not needed\n",
    "cleaned = joined.drop(['dayofmonth','flightnum','taxiin','taxiout','tailnum','actualelapsedtime','crselapsedtime','distance'],axis=1)"
   ]
  },
  {
   "cell_type": "code",
   "execution_count": 30,
   "metadata": {},
   "outputs": [
    {
     "data": {
      "text/plain": [
       "347124"
      ]
     },
     "execution_count": 30,
     "metadata": {},
     "output_type": "execute_result"
    }
   ],
   "source": [
    "#creating only rows with cancelled flight to reduce running memory\n",
    "cleaned_cancel = cleaned[cleaned['cancelled'] == 1]\n",
    "cleaned_cancel.shape[0]"
   ]
  },
  {
   "cell_type": "code",
   "execution_count": 31,
   "metadata": {},
   "outputs": [
    {
     "data": {
      "text/plain": [
       "6964015"
      ]
     },
     "execution_count": 31,
     "metadata": {},
     "output_type": "execute_result"
    }
   ],
   "source": [
    "#filtering the rows from original data frame to see how many rows had depdelay time above one or equal to 1 from original data, since it didnt affect cancellation\n",
    "cleaned_delay = cleaned.query('depdelay >=1 ')\n",
    "cleaned_delay.shape[0]"
   ]
  },
  {
   "cell_type": "code",
   "execution_count": 32,
   "metadata": {},
   "outputs": [
    {
     "data": {
      "text/plain": [
       "16984354"
      ]
     },
     "execution_count": 32,
     "metadata": {},
     "output_type": "execute_result"
    }
   ],
   "source": [
    "cleaned.shape[0]"
   ]
  },
  {
   "cell_type": "markdown",
   "metadata": {
    "tags": []
   },
   "source": [
    "### What is the structure of your dataset?\n",
    "\n",
    "In this project, i am using six(6) datasets for three(3) years 2006 and 2008.\n",
    "There are  16,984,354 flight observations with 29 features in  total.\n",
    "\n",
    "i have 3 sub-dataset:\n",
    "> cleaned_cancel :all rows whose flight were cancelled with a total of 347,124 observation\n",
    "\n",
    "\n",
    "> cleaned_delay  : all rows whose departure time were delayed by at least one minute with a total of 6,964,015\n",
    "\n",
    "\n",
    "> cleaned : all rows from the 3 dataset, with unused columns dropped with a total of 16,984,353 number of observation \n",
    "\n",
    "\n",
    "### What is/are the main feature(s) of interest in your dataset?\n",
    " I am interested in knowing the most used carriers, destinations ,preferrred dayofweek  , timeofday, with lesser cancellation or delays and the top reason for cancellation distributed in years \n",
    "\n",
    "### What features in the dataset do you think will help support your investigation into your feature(s) of interest?\n",
    "\n",
    "Destination will help me ascertain what destination is frequently used and which destination record high number of cancellation or delay.  DayOfWeek, will answer my question of period with the least cancellation or delays. uniquecarrier will help me ascertain carrier with high number of cancellation or delay, same with cancellationcode and  crsdeptime. "
   ]
  },
  {
   "cell_type": "markdown",
   "metadata": {
    "tags": []
   },
   "source": [
    "## Univariate Exploration\n",
    " \n"
   ]
  },
  {
   "cell_type": "code",
   "execution_count": null,
   "metadata": {},
   "outputs": [],
   "source": [
    "#describe the joined table\n",
    "cleaned.describe()"
   ]
  },
  {
   "cell_type": "markdown",
   "metadata": {},
   "source": [
    "## What is the peak  Cancellationcode?"
   ]
  },
  {
   "cell_type": "code",
   "execution_count": null,
   "metadata": {},
   "outputs": [],
   "source": [
    "#replacing all abbreviated letter to full name\n",
    "cleaned.cancellationcode = cleaned.cancellationcode.replace({'A':'Carrier','B':'Weather','C':'Nas','D':'Security'})\n",
    "base_color = sns.color_palette()[0]"
   ]
  },
  {
   "cell_type": "code",
   "execution_count": null,
   "metadata": {},
   "outputs": [],
   "source": [
    "plt.figure(figsize=(14,7))\n",
    "plot_cancel = cleaned.cancellationcode.value_counts()\n",
    "plot_cancel_index = plot_cancel.index\n",
    "plot_cancel_value = plot_cancel.values\n",
    "sns.barplot(y= plot_cancel_index,x=plot_cancel_value, color=base_color)\n",
    "plt.title('Distribution of cancellationcode')\n",
    "plt.ylabel('Cancellationcode')\n",
    "plt.xlabel('count');"
   ]
  },
  {
   "cell_type": "markdown",
   "metadata": {
    "tags": []
   },
   "source": [
    "This plot helped me displayed the distribution of cancellation cause. Carrier had the highest cancellation cause, followed by weather and Nasdelay , i will investigate it further in next section\n"
   ]
  },
  {
   "cell_type": "markdown",
   "metadata": {
    "tags": []
   },
   "source": [
    " \n",
    "\n",
    "### The Distribution of flights by dayofweek"
   ]
  },
  {
   "cell_type": "code",
   "execution_count": null,
   "metadata": {},
   "outputs": [],
   "source": [
    "#create a label of day of the week\n",
    "plt.figure(figsize=(10,7))\n",
    "label = ['Monday','Tuesday','Wednesday','Thursday','Friday','Saturday','Sunday']\n",
    "#create a barplot \n",
    "sns.countplot(data=cleaned, x='dayofweek',color=base_color)#order=label\n",
    "plt.xticks(rotation=15,ticks=[0,1,2,3,4,5,6],labels=label)\n",
    "plt.ylabel('flights in million')\n",
    "plt.xlabel('day of week')\n",
    "plt.title('Distribution of cancelled flights by day of week');"
   ]
  },
  {
   "cell_type": "markdown",
   "metadata": {
    "tags": []
   },
   "source": [
    "This barplot shows that Weekend(saturday and sunday) had little drop in  flights during weekend \n",
    "\n",
    "#### Distribution of flights by uniquecarrier code"
   ]
  },
  {
   "cell_type": "code",
   "execution_count": null,
   "metadata": {},
   "outputs": [],
   "source": [
    "#plot distribution of uniquecarrier\n",
    "plt.figure(figsize=(13,7))\n",
    "cleaned.uniquecarrier.value_counts().plot(kind = 'bar')\n",
    "plt.title('distribution of uniquecarrier')\n",
    "plt.ylabel('Flights in million')\n",
    "plt.xlabel('UniqueCarrier')"
   ]
  },
  {
   "cell_type": "markdown",
   "metadata": {
    "tags": []
   },
   "source": [
    "i made this plot see which uniquecarrier is mostly used, i discovered Southwest was the highest number of flights followed by American and Skywest\n",
    "\n",
    "### Distribution of Flight by Years"
   ]
  },
  {
   "cell_type": "code",
   "execution_count": null,
   "metadata": {},
   "outputs": [],
   "source": [
    "#plot distribution of years using  value count\n",
    "cleaned.year.value_counts().plot(kind= 'bar')\n",
    "plt.title('Distribution of Flights by years ')\n",
    "plt.xlabel('years')\n",
    "plt.ylabel('frequency in Million')"
   ]
  },
  {
   "cell_type": "markdown",
   "metadata": {},
   "source": [
    "This plot shows year 2008 had lower flight, i want to To investigate the drop in flight year 2008, i will queried the dataset below and find my answer. it also shows that year 2007 has the highest flight recorded."
   ]
  },
  {
   "cell_type": "code",
   "execution_count": null,
   "metadata": {},
   "outputs": [],
   "source": [
    "#used query to filter only months\n",
    "abs = cleaned.query('year == 2008')\n",
    "abs.month.value_counts()"
   ]
  },
  {
   "cell_type": "markdown",
   "metadata": {},
   "source": [
    "After qeurying the year column in the dataset, i observe year 2008 had only 4 months recorded."
   ]
  },
  {
   "cell_type": "markdown",
   "metadata": {},
   "source": [
    "### Discuss the distribution(s) of your variable(s) of interest. Were there any unusual points? Did you need to perform any transformations?\n",
    "\n",
    "> My variable of interest was CarrierDelay, UniqueCarriers, Day of the week, Cancellation Code and years distribution . I didnt perform any Transformation\n",
    "\n",
    "### Of the features you investigated, were there any unusual distributions? Did you perform any operations on the data to tidy, adjust, or change the form of the data? If so, why did you do this?\n",
    "\n",
    ">  The Annual distribution for flight usage had only 4 months recorded in year 2008 which reduced observation by 68%. i used numpy to change the abbrevations in uniquecarrier, dayofweek and cancellation code"
   ]
  },
  {
   "cell_type": "markdown",
   "metadata": {},
   "source": [
    "## Bivariate Exploration\n",
    " "
   ]
  },
  {
   "cell_type": "markdown",
   "metadata": {
    "tags": []
   },
   "source": [
    " \n",
    "\n",
    "#### What is The Distribution of  Cancellation Code from 2006 to 2008?\n",
    "\n",
    "\n"
   ]
  },
  {
   "cell_type": "code",
   "execution_count": null,
   "metadata": {},
   "outputs": [],
   "source": [
    "#used query method to filter dataset for year , cancellation and just the first quater\n",
    "\n",
    "cancellation_2006 = cleaned.query('year == 2006 & month <=4')\n",
    "cancellation_2007 = cleaned.query('year == 2007 & month <=4')\n",
    "cancellation_2008 = cleaned.query('year == 2008 & month <=4')\n",
    "\n",
    "\n",
    "plt.figure(figsize=(15,5))\n",
    "plt.subplot(1,3,1)\n",
    "\n",
    "\n",
    "#bar plot of cancellation cause in 2006\n",
    "cancellation_2006.cancellationcode.value_counts().plot(kind='bar')\n",
    "plt.xlabel('2006 cancellation cause')\n",
    "plt.ylabel('Frequency')\n",
    "plt.title(' cancellationcode first quater 2006')\n",
    "\n",
    "\n",
    "plt.subplot(1,3,2)\n",
    "#bar plot of cancellation cause in 2007\n",
    "cancellation_2007.cancellationcode.value_counts().plot(kind='bar')\n",
    "plt.xlabel('2007 cancellation cause')\n",
    "plt.title(' cancellationcode first quater 2007')\n",
    "\n",
    "\n",
    "\n",
    "plt.subplot(1,3,3)\n",
    "#bar plot of cancellation cause in 2008\n",
    "cancellation_2008.cancellationcode.value_counts().plot(kind='bar')\n",
    "plt.xlabel('2008 cancellation cause')\n",
    "plt.title(' cancellationcode first quater 2008')\n",
    "plt.suptitle('Cancellation cause in first Quater through out years');\n"
   ]
  },
  {
   "cell_type": "markdown",
   "metadata": {},
   "source": [
    "### I decided to use just first quater of each year because i want to show the equal distibution of cancellation code for 3 years, and its shows 2007 had high cancellation cause based on frequency and weather was the leading cause , 2008 had carrier and weather as leading cause while 2007 had carrier as leading cause"
   ]
  },
  {
   "cell_type": "markdown",
   "metadata": {},
   "source": [
    "\n",
    "## How weather affected Flight cancellation?"
   ]
  },
  {
   "cell_type": "code",
   "execution_count": null,
   "metadata": {},
   "outputs": [],
   "source": [
    "#group the weather delay in time into 5 and create new column\n",
    "cleaned_cancel.loc[cleaned_cancel['weatherdelay'] <=15, 'weather_cat'] = 1\n",
    "cleaned_cancel.loc[cleaned_cancel['weatherdelay'] >=15, 'weather_cat'] = 2\n",
    "cleaned_cancel.loc[cleaned_cancel['weatherdelay'] >=60, 'weather_cat'] = 3\n",
    "cleaned_cancel.loc[cleaned_cancel['weatherdelay'] >=120, 'weather_cat'] = 4\n",
    "cleaned_cancel.loc[cleaned_cancel['weatherdelay'] >180, 'weather_cat'] = 5\n",
    "cleaned_cancel.loc[cleaned_cancel['weatherdelay'].isna(), 'weather_cat'] =0 \n",
    " "
   ]
  },
  {
   "cell_type": "code",
   "execution_count": null,
   "metadata": {},
   "outputs": [],
   "source": [
    "#group the weather delay in category that is associated to cancelled flight and assign to a new variable weather count\n",
    "weather_count = cleaned_cancel.groupby(['weather_cat','cancelled'])['weather_cat'].size()\n",
    "weather_count"
   ]
  },
  {
   "cell_type": "markdown",
   "metadata": {},
   "source": [
    "#### Recall 0.0 means 'NAN' and 1.0 means less than 15 mins"
   ]
  },
  {
   "cell_type": "code",
   "execution_count": null,
   "metadata": {},
   "outputs": [],
   "source": [
    "#taking percentage \n",
    "weather_count =  weather_count.reset_index(name='count')\n",
    "weather_count['count_percentage'] = round((weather_count['count']/weather_count['count'].sum())*100,2)\n",
    "\n",
    " "
   ]
  },
  {
   "cell_type": "code",
   "execution_count": null,
   "metadata": {},
   "outputs": [],
   "source": [
    "#show result\n",
    "weather_count"
   ]
  },
  {
   "cell_type": "code",
   "execution_count": null,
   "metadata": {},
   "outputs": [],
   "source": [
    "#percentage of cancelled flight from total\n",
    "cancel_percent = round((weather_count['count'].sum()/cleaned.shape[0])*100,2)"
   ]
  },
  {
   "cell_type": "code",
   "execution_count": null,
   "metadata": {},
   "outputs": [],
   "source": [
    "#replacing 0 and 1 with not_cancelled and cancelled respectively\n",
    "weather_count['cancelled'] = weather_count.cancelled.replace({0:'not_Cancelled',1:'cancelled'})"
   ]
  },
  {
   "cell_type": "code",
   "execution_count": null,
   "metadata": {},
   "outputs": [],
   "source": [
    "#replacing number with more meaningfull name \n",
    "weather_count.weather_cat = weather_count.weather_cat.replace({0.0:'NaN',1.0:' <= 15mins',2.0:'>=15mins',3.0:'>=60mins',4.0:'>=120mins',5.0:'>180mins'})\n"
   ]
  },
  {
   "cell_type": "code",
   "execution_count": null,
   "metadata": {},
   "outputs": [],
   "source": [
    "#displaying weather_count table\n",
    "weather_count"
   ]
  },
  {
   "cell_type": "code",
   "execution_count": null,
   "metadata": {},
   "outputs": [],
   "source": [
    "#plot showing the cancelled flight due to weather delay\n",
    "label =  weather_count.weather_cat \n",
    "plt.figure(figsize=(5,5))\n",
    "plt.pie(weather_count.count_percentage,colors=['orange','brown'],labels=(label.values),autopct='%1.1f%%',pctdistance=.85)\n",
    "plt.title('percentage of flight cancelled due to Weather delay',color='black')\n",
    "circle = plt.Circle((0, 0), 0.7, color='white')\n",
    "sum_ = weather_count.count_percentage.sum()\n",
    "fig = plt.gcf()\n",
    "plt.text(0., 0., cancel_percent, horizontalalignment='center', verticalalignment='center',fontsize=32)\n",
    "fig.gca().add_artist(circle)\n",
    "plt.rc('font', size=12)\n",
    "plt.legend(loc=4)\n",
    ";\n",
    "plt.show();"
   ]
  },
  {
   "cell_type": "markdown",
   "metadata": {},
   "source": [
    "i did this plot to show how much weather delay caused flight cancellation. A total of  2.04% accountted for cancelled flight which  were caused by weather delay with less than 15 mins with 81.4% and not-available minutes  for 18.6%\n",
    "\n",
    "## Flights delayed due to weather?\n"
   ]
  },
  {
   "cell_type": "code",
   "execution_count": null,
   "metadata": {},
   "outputs": [],
   "source": [
    "sns.scatterplot(data= cleaned_delay, x='weatherdelay',y='depdelay')\n",
    "plt.title('Departure and Weather delay');"
   ]
  },
  {
   "cell_type": "markdown",
   "metadata": {},
   "source": [
    "you can see above that depature delay associated with weather delay were between 0-16 minutes wait time \n",
    "\n",
    "### Day of the week that is likely for a flight to be cancelled "
   ]
  },
  {
   "cell_type": "code",
   "execution_count": null,
   "metadata": {},
   "outputs": [],
   "source": [
    "# replacing integer to readable column from only cancelled flight\n",
    "cleaned_cancel.dayofweek = cleaned_cancel.dayofweek.replace({1:'Monday',2:'Tuesday',3:'Wednesday',4:'Thursday',5:'Friday',6:'Saturday',7:'Sunday'})"
   ]
  },
  {
   "cell_type": "code",
   "execution_count": null,
   "metadata": {},
   "outputs": [],
   "source": [
    "#group dayofweek and cancelled \n",
    "daypivot = cleaned_cancel.groupby(['dayofweek','cancelled']).size()\n",
    "dayfreq = daypivot.copy()"
   ]
  },
  {
   "cell_type": "code",
   "execution_count": null,
   "metadata": {},
   "outputs": [],
   "source": [
    "#assign only index to daypivot\n",
    "daypivot = daypivot.index.levels[0]\n",
    "#assign values to dayfreq\n",
    "dayfreq = dayfreq.values\n",
    " \n",
    "#assign values to dayfreq\n",
    "dayfreq"
   ]
  },
  {
   "cell_type": "code",
   "execution_count": null,
   "metadata": {
    "tags": []
   },
   "outputs": [],
   "source": [
    "#create a label of day of the week\n",
    "label = ['Monday','Tuesday','Wednesday','Thursday','Friday','Saturday','Sunday']\n",
    "#create a barplot \n",
    "sns.barplot(y=daypivot, x=dayfreq,color=base_color,order=label)\n",
    "plt.xticks(rotation=15)\n",
    "plt.xlabel('Frequency')\n",
    "plt.title('Distribution of cancelled flights by day of week');"
   ]
  },
  {
   "cell_type": "markdown",
   "metadata": {},
   "source": [
    "This plot is to show Flights During the dayofweek that had  more cancellation and it appears weekend(saturday, sunday) had less cancellation, while friday had higher cancellation.\n",
    "### Distribution of flight delay and day of the week."
   ]
  },
  {
   "cell_type": "code",
   "execution_count": null,
   "metadata": {
    "tags": []
   },
   "outputs": [],
   "source": [
    "# replacing integer to readable column from only delayed flight\n",
    "cleaned_delay.dayofweek = cleaned_delay.dayofweek.replace({1:'Monday',2:'Tuesday',3:'Wednesday',4:'Thursday',5:'Friday',6:'Saturday',7:'Sunday'})"
   ]
  },
  {
   "cell_type": "code",
   "execution_count": null,
   "metadata": {},
   "outputs": [],
   "source": [
    "# make a plot of flights delay by dayofweek\n",
    "cleaned_delay.dayofweek.value_counts().plot(kind='bar')\n",
    "plt.title('Flight delayed by dayofweek')\n",
    "plt.ylabel('frequency in millions')\n",
    "plt.xlabel('day of week ')"
   ]
  },
  {
   "cell_type": "markdown",
   "metadata": {},
   "source": [
    "This plot is to show Flights During the dayofweek that had  more delay and it appears weekend(saturday) had less delay, while friday experienced high delay with no much differnce accross the week.\n",
    "\n",
    "### Which Carrier experienced high flight cancellation?"
   ]
  },
  {
   "cell_type": "code",
   "execution_count": null,
   "metadata": {},
   "outputs": [],
   "source": [
    "#value count of uniquecarriers and assigning to variable called carrier_Value\n",
    "carrier_delay = cleaned_cancel.uniquecarrier.value_counts()\n",
    "carrier_value = carrier_delay.values\n",
    "carrier_value"
   ]
  },
  {
   "cell_type": "code",
   "execution_count": null,
   "metadata": {
    "tags": []
   },
   "outputs": [],
   "source": [
    "#plot carrier associated with more cancelled flight\n",
    "\n",
    "#create a function to plot distribution of delayed and cancelled flight by uniquecarrier \n",
    "def count_plot(x,y,z):\n",
    "    fig,axes = plt.subplots(figsize=(15,10))\n",
    "    #make a stem plot\n",
    "    axes.stem(x,y, use_line_collection=True, basefmt=' ')\n",
    "    # starting value of y-axis\n",
    "    axes.set_ylim(0)\n",
    "    plt.xticks(rotation = 90);\n",
    "    plt.tight_layout()\n",
    "    plt.title('Carrier associated with more  cancelled flight')\n",
    "    plt.xlabel('Unique Carrier')\n",
    "    plt.ylabel('FRequency');\n",
    "    plt.title('Carrier associated with more {} flight'.format(z))\n",
    "count_plot(carrier_delay.index,carrier_value,'cancelled')\n"
   ]
  },
  {
   "cell_type": "markdown",
   "metadata": {},
   "source": [
    "#### the above plot is to show The Airline who had more flight cancellation, it Appears American Eagle has the highest flight cancellation through out the 3 years \n",
    "\n",
    "## which Airline has more depature delay time ?"
   ]
  },
  {
   "cell_type": "code",
   "execution_count": null,
   "metadata": {},
   "outputs": [],
   "source": [
    "#value count of uniquecarriers and assigning to variable called carrier_Value\n",
    "carrier_delay_2 = cleaned_delay.uniquecarrier.value_counts()\n",
    "carrier_value_2 = carrier_delay_2.values\n",
    "count_plot(carrier_delay_2.index,carrier_value_2,'Delayed')"
   ]
  },
  {
   "cell_type": "markdown",
   "metadata": {},
   "source": [
    "#### The above plot is to show The Airline who had more flight DEpature Delay, it Appears Southwest has the highest flight DEpature delay through out the 3 years. Recall from univariate plot, Southeast was the most used carrier."
   ]
  },
  {
   "cell_type": "markdown",
   "metadata": {},
   "source": [
    "### What destination City are prone to Flight Cancellation?\n"
   ]
  },
  {
   "cell_type": "code",
   "execution_count": null,
   "metadata": {},
   "outputs": [],
   "source": [
    "#use cancelled rows to search for destination that are prone to flight cancellation\n",
    "cleaned_dest = cleaned_cancel.dest.value_counts().head(15)\n",
    "dest_valu = cleaned_dest.values\n",
    " \n",
    "\n",
    "#plot a barplot of the distribution above\n",
    "plt.figure(figsize=(14,8))\n",
    "plt.subplot(1,2,1)\n",
    "sns.barplot(y=cleaned_dest.index , x=dest_valu,color=base_color)\n",
    "plt.title('Distribution of flight cancelled and Destination ')\n",
    "plt.ylabel('Destination')\n",
    "plt.xlabel('count');\n",
    "\n",
    "#frequency of most origin destination\n",
    "cleaned_dest_1 = cleaned.dest.value_counts().head(15)\n",
    "dest_valu_1 = cleaned_dest_1.values\n",
    "#plot the distribution of flight from destination\n",
    "plt.subplot(1,2,2)\n",
    "sns.barplot(y=cleaned_dest_1.index , x=dest_valu_1, color=base_color)\n",
    "plt.title('Distribution of flight from Destination ')\n",
    "plt.ylabel('Destination')\n",
    "plt.xlabel('count in million');"
   ]
  },
  {
   "cell_type": "markdown",
   "metadata": {},
   "source": [
    "The left hand  plot shows the destination with high cancellation and ORD was the highest.  The right hand plot shows the destination with the highest record flight in total  and ATL has the highest destination."
   ]
  },
  {
   "cell_type": "markdown",
   "metadata": {},
   "source": [
    "### Which Origin experienced more  Flight Cancellation?"
   ]
  },
  {
   "cell_type": "code",
   "execution_count": null,
   "metadata": {},
   "outputs": [],
   "source": [
    "#use cancelled rows to search for destination that are prone to flight cancellation\n",
    "cleaned_origin = cleaned_cancel.origin.value_counts().head(15)\n",
    "origin_valu = cleaned_origin.values\n",
    "cleaned_dest\n",
    "\n",
    "plt.figure(figsize=(14,7))\n",
    "\n",
    "#plot a barplot of the distribution above\n",
    "plt.subplot(1,2,1)\n",
    "sns.barplot(y=cleaned_origin.index , x=origin_valu,color=base_color)\n",
    "plt.title('Relationship of flight cancelled and Origin ')\n",
    "plt.ylabel('Origin')\n",
    "plt.xlabel('count');\n",
    "\n",
    "\n",
    "#frequency of most origin destination\n",
    "cleaned_origin_2 = cleaned.origin.value_counts().head(15)\n",
    "origin_valu_2 = cleaned_origin_2.values\n",
    "\n",
    "plt.subplot(1,2,2)\n",
    "sns.barplot(y=cleaned_origin_2.index , x=origin_valu_2,color=base_color)\n",
    "plt.title('Distribution of flight from Origin ')\n",
    "plt.ylabel('Origin')\n",
    "plt.xlabel('count in millions');"
   ]
  },
  {
   "cell_type": "markdown",
   "metadata": {
    "tags": []
   },
   "source": [
    "> The left hand  plot shows the origin with high cancellation and ORD was the highest.  The right hand plot shows the origin with the highest record flight in total  and ATL has the highest origin.\n",
    "\n",
    "## What is the frequency of flight  cancelled or delayed by scheduledtime"
   ]
  },
  {
   "cell_type": "code",
   "execution_count": null,
   "metadata": {},
   "outputs": [],
   "source": [
    "#plot frequency of flight occurence by time \n",
    "Schedhours= round((cleaned_cancel.crsdeptime/100),0)\n",
    "Schedhours_1 = round((cleaned_delay.crsdeptime/100),0)\n",
    "Schedhours_2 = round((cleaned.crsdeptime/100),0)\n",
    "\n",
    "#plot frequency of flight cancelled by time \n",
    "plt.figure(figsize=(20,10))\n",
    "plt.subplot(1,3,1)\n",
    "Schedhours.value_counts(10).plot(kind='bar')\n",
    "plt.title('distribution of flight cancelled by time')\n",
    "plt.xlabel('Time')\n",
    "plt.ylabel('count');\n",
    "\n",
    "#plot frequency of flight delayed by time \n",
    "plt.subplot(1,3,2)\n",
    "Schedhours_1.value_counts(10).plot(kind='bar')\n",
    "plt.title('distribution of flight delayed by time')\n",
    "plt.xlabel('Time')\n",
    "plt.ylabel('count');\n",
    "\n",
    "#plot frequency of flight  by time \n",
    "plt.subplot(1,3,3)\n",
    "Schedhours_2.value_counts(10).plot(kind='bar')\n",
    "plt.title('distribution of flights by time')\n",
    "plt.xlabel('Time')\n",
    "plt.ylabel('count');"
   ]
  },
  {
   "cell_type": "markdown",
   "metadata": {},
   "source": [
    "> For cancelled Flight , scheduled flight had lowest average cancellation on saturday around 12pm - 1pm  and most cancelled flight on (monday,tuesday,thursday, friday) almost at same average time of 2pm - 4pm"
   ]
  },
  {
   "cell_type": "markdown",
   "metadata": {
    "jp-MarkdownHeadingCollapsed": true,
    "tags": []
   },
   "source": [
    "### Talk about some of the relationships you observed in this part of the investigation. How did the feature(s) of interest vary with other features in the dataset?\n",
    "\n",
    "- Destination with high cancellation and delay is ORD while most flight ORIGIN is ATL\n",
    "- SouthWest carrier had the most depature delay while America Eagles had the most cancellation, southWest carrier was the most used Carrier. Overall, carrier accounted for 2.04% of flight cancellation\n",
    "- saturday had low cancellation and delays.\n",
    "- 6pm  has the highest number of flights with cancellation, with no delays. 4pm had a little high delay, and 8am is the highest frequent time for Flight \n",
    " \n",
    "### Did you observe any interesting relationships between the other features (not the main feature(s) of interest)?\n",
    "\n",
    "> No"
   ]
  },
  {
   "cell_type": "markdown",
   "metadata": {},
   "source": [
    "## Multivariate Exploration\n",
    "\n",
    " "
   ]
  },
  {
   "cell_type": "markdown",
   "metadata": {},
   "source": [
    "## Relationship between Depature Delay or Cancellation ,Scheduled Flight by Day of weeK?"
   ]
  },
  {
   "cell_type": "code",
   "execution_count": null,
   "metadata": {},
   "outputs": [],
   "source": [
    "#plot Distribution of schedflight time that was delayed by dayofweek' \n",
    "plt.figure(figsize=(20,8))\n",
    "plt.subplot(1,3,1);\n",
    "Schedhours = cleaned_delay.crsdeptime/100\n",
    "\n",
    "sns.boxplot(y= Schedhours, x='dayofweek' ,data= cleaned_delay,color= base_color, order=['Monday','Tuesday','Wednesday','Thursday','Friday','Saturday','Sunday'])\n",
    "plt.yticks(np.arange(0,24,2))\n",
    "plt.title(' scheduledflight time that was delayed by dayofweek')\n",
    "plt.tight_layout();\n",
    "\n",
    "#plot scheduledflight time that was cancelled by dayofweek\n",
    "plt.subplot(1,3,2);\n",
    "Schedhours = cleaned_cancel.crsdeptime/100\n",
    "sns.boxplot(y= Schedhours, x='dayofweek' ,data= cleaned_cancel,color= base_color)\n",
    "plt.yticks(np.arange(0,24,2))\n",
    "plt.xticks([0,1,2,3,4,5,6],['Mon','Tues','Wed','Thur','Fri','Sat','Sun'])\n",
    "plt.title('scheduledflight time that was cancelled by dayofweek')\n",
    "plt.tight_layout();\n"
   ]
  },
  {
   "cell_type": "markdown",
   "metadata": {},
   "source": [
    ">For Delayed Flights, Saturday scheduled flight had the lowest chances of been delayed  with average scheduled time at 1pm - 2pm and sunday with the most delay flight around 3pm- 4pm .\n",
    "> For cancelled Flights, Thursday had the lowest cancellation flights with an average time at 12:30pm - 1:30pm"
   ]
  },
  {
   "cell_type": "markdown",
   "metadata": {},
   "source": [
    "### Talk about some of the relationships you observed in this part of the investigation. Were there features that strengthened each other in terms of looking at your feature(s) of interest?\n",
    "\n",
    "6pm  has the highest number of flights with cancellation, with no delays. 4pm had a little high delay, and 8am is the highest frequent time for Flight      \n",
    "\n",
    "### Were there any interesting or surprising interactions between features?\n",
    "\n",
    "- Friday has high cancellations and delays.\n",
    "\n",
    "\n",
    "## Conclusions\n",
    " \n",
    "-  SouthWest Airlines Carrier operates high number of flights in U.S. with less cancellations but high delay while America Eagle had more cancellation\n",
    "\n",
    "- ORD destination had the highest record flight cancellation and ATL has the highest Origin"
   ]
  },
  {
   "cell_type": "code",
   "execution_count": null,
   "metadata": {},
   "outputs": [],
   "source": [
    "from subprocess import call\n",
    "call(['python', '-m', 'nbconvert', 'exploration_template.ipynb'])"
   ]
  },
  {
   "cell_type": "markdown",
   "metadata": {},
   "source": [
    "#saving Dataframe to csv file\n",
    "cleaned.to_csv('cleaned.csv')\n",
    "cleaned_delay.to_csv('cleaned_delay.csv')\n",
    "cleaned_cancel.to_csv('cleaned_cancel.csv')"
   ]
  },
  {
   "cell_type": "code",
   "execution_count": null,
   "metadata": {},
   "outputs": [],
   "source": []
  }
 ],
 "metadata": {
  "kernelspec": {
   "display_name": "Python 3 (ipykernel)",
   "language": "python",
   "name": "python3"
  },
  "language_info": {
   "codemirror_mode": {
    "name": "ipython",
    "version": 3
   },
   "file_extension": ".py",
   "mimetype": "text/x-python",
   "name": "python",
   "nbconvert_exporter": "python",
   "pygments_lexer": "ipython3",
   "version": "3.8.13"
  }
 },
 "nbformat": 4,
 "nbformat_minor": 4
}
